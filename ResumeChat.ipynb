{
  "cells": [
    {
      "cell_type": "code",
      "execution_count": null,
      "metadata": {
        "id": "RiOUkkK45ewo"
      },
      "outputs": [],
      "source": [
        "# !pip install chromadb\n",
        "# !pip install -Uq chromadb numpy datasets\n",
        "!pip install langchain\n",
        "# !pip install openai\n",
        "# !pip install pypdf\n",
        "# !pip install python-dotenv\n",
        "# !pip install tiktoken\n",
        "# !pip install numpy==1.22\n",
        "# !pip install faiss-gpu"
      ]
    },
    {
      "cell_type": "code",
      "source": [
        "!pip install pypdf"
      ],
      "metadata": {
        "colab": {
          "base_uri": "https://localhost:8080/"
        },
        "id": "YjTQaR0DGZcu",
        "outputId": "78887ae1-292f-4fa0-f1de-6c4c33d0b901"
      },
      "execution_count": null,
      "outputs": [
        {
          "output_type": "stream",
          "name": "stdout",
          "text": [
            "Collecting pypdf\n",
            "  Downloading pypdf-3.16.4-py3-none-any.whl (276 kB)\n",
            "\u001b[?25l     \u001b[90m━━━━━━━━━━━━━━━━━━━━━━━━━━━━━━━━━━━━━━━━\u001b[0m \u001b[32m0.0/276.6 kB\u001b[0m \u001b[31m?\u001b[0m eta \u001b[36m-:--:--\u001b[0m\r\u001b[2K     \u001b[91m━━━━━━━━━━━━━━━━━\u001b[0m\u001b[91m╸\u001b[0m\u001b[90m━━━━━━━━━━━━━━━━━━━━━━\u001b[0m \u001b[32m122.9/276.6 kB\u001b[0m \u001b[31m3.6 MB/s\u001b[0m eta \u001b[36m0:00:01\u001b[0m\r\u001b[2K     \u001b[90m━━━━━━━━━━━━━━━━━━━━━━━━━━━━━━━━━━━━━━━━\u001b[0m \u001b[32m276.6/276.6 kB\u001b[0m \u001b[31m5.3 MB/s\u001b[0m eta \u001b[36m0:00:00\u001b[0m\n",
            "\u001b[?25hInstalling collected packages: pypdf\n",
            "Successfully installed pypdf-3.16.4\n"
          ]
        }
      ]
    },
    {
      "cell_type": "code",
      "execution_count": null,
      "metadata": {
        "id": "KII1wK-x8BCB"
      },
      "outputs": [],
      "source": [
        "import os\n",
        "import openai\n",
        "import sys\n",
        "sys.path.append('../..')\n",
        "\n",
        "from dotenv import load_dotenv, find_dotenv\n",
        "_ = load_dotenv(find_dotenv()) # read local .env file\n",
        "\n",
        "openai.api_key  = os.environ['OPENAI_API_KEY']"
      ]
    },
    {
      "cell_type": "code",
      "execution_count": null,
      "metadata": {
        "id": "u3XmEvNO5vg_"
      },
      "outputs": [],
      "source": [
        "from langchain.document_loaders import PyPDFLoader\n",
        "loader = [PyPDFLoader(\"bhasha.pdf\")]\n",
        "docs = []\n",
        "for load in loader:\n",
        "  docs.extend(load.load())"
      ]
    },
    {
      "cell_type": "code",
      "execution_count": null,
      "metadata": {
        "colab": {
          "base_uri": "https://localhost:8080/",
          "height": 157
        },
        "id": "xzvTnIBMUS7W",
        "outputId": "01df7c51-5cdb-411d-adfa-986de26f3e89"
      },
      "outputs": [
        {
          "output_type": "execute_result",
          "data": {
            "text/plain": [
              "'Bhasha Tyagi +919667314411\\nBachelor of Technology tt1222154@iitd.ac.in\\nin Textile Engineering bhashatyagi.iitdelhi@gmail.com\\nIndian Institute Of Technology, Delhi linkedin.com.in.bhasha-tyagi\\nEducation\\nDegree Institute/Board CGPA/Percentage Year\\nBachelor of Technology Indian Institute of Technology, Delhi 7.05 2022-26\\nSenior Secondary Delhi Public School, R.K. Puram Education 96.20 2021\\nSecondary Seth Anandram Jaipuria School 97.80 2019\\nScholastic Achievements\\n•Secured99.29 Percentile in IIT JEE, 2022 with an All India Rank of 6716 among 1.2 million candidates appeared\\n•Five-Time Consecutive Medal Recipient of National French Olympiad conducted by Education & Beyond\\n•Winner of Saviours Olympiad , and instrumental in School winning the Green Award in environmental initiatives\\n•Successfully advanced the Intermediate Round of theInternational Space Olympiad inSuper Senior Category\\n•Triple recipient of (B1) French Word Power medals (State and National level) from Prayatna Educational Society\\n•Duke University-certified inAP Chemistry andData Science Math Skill with exceptional top-tier performance\\nProjects\\n•Top 10 Finalist in Samsung Solve For Tomorrow ,(A CSR Initiative for Entrepreneurship) (Apr’23-Oct’23)\\n–Engineered an affordable & intutive AR headset for the hearing impaired individuals , alongside developed a\\nspeech-to-text software on Unity Vuforia Engine for Microsoft HoloLens , under the mentorship of Prof. Sunil Jha\\n•Micro-level Women Entrepreneurship Development Project, (EXL’s CSR initiative) (Oct’23-Present)\\n–Conducting an in-depth research and delivering mentorship, online resources for financial & business literacy, guided\\nby Prof. Gourav Dwivedi, with affiliations from FITT, and Department of Management Studies, IIT Delhi\\n•Venture Verse Design Thinking (Entrepreneurship Development Cell, IIT Delhi) (Sep’23-Present)\\n–researched & created 50+ page descriptive- graphical case based resource-booklet on 5 stages of Design Thinking\\nmeant for the purpose of skill-building of IIT Delhi’s Entrepreneurial community as part of Ecell flagship initiative.\\n•Integrated Drone Technology for Enhanced Site Monitoring, (GOI’s Smart India Hackathon) (Sep’23-Present)\\n–Leading the team and representing IITD at nationals in developing cost-effective drone technology for comprehensive\\nsite monitoring using LIDAR sensors, LandSAT imaging, and grid-based surveillance of catchment areas.\\n•6 Axis Servo Motor Robotic Arm Manipulator ,(Robotics Technology) (Apr’23-May’23)\\n–Engineered a six-axis pick-and-place robotic arm project with high-precision kinematics featuring an Arduino\\nmicro-controller integrated on a soldered PCB, MIT App Inventor interface, and potentiometers as input controllers\\nTechnical Skills\\n•Programming & Scripting Languages :Python, C, Unity, HTML, MATLAB, Arduino, Visual Studio\\n•Tools & Libraries :LT Spice, Auto desk Inventor, Solid works, LATEX, Canva, Microsoft and Google Workspace\\nKey courses taken\\nRobotics Technology, Digital Marketing, Data Analytics for Business, Product Management, Machine Learning in Python,\\nComputer Vision, Engg. Visualization, Product Realisation through Manufacturing, Experimental Methods, Design Thinking,\\nQuantum Mechanics, Calculus, Intro. to Computer Science, Intro. to Electrical Engg,. Linear Algebra & Diff. Equations\\nPositions of Responsibility\\n•Executive: Office Of Career Services |Placement Cell, IIT Delhi (April’23-Present)\\n–Successfully managed over 1000+ job placements and internships , while fostering relationships with Companies by\\norganising Corporate Speaker session, ensuring seamless interview, test conduction and other Career-related events.\\n•Executive: Events |Entrepreneurship Development Cell (June’23-Present)\\n–Managed entrepreneurship development activities, including mentor-ship, training, speaker invitation, panel talks,\\nforums, corporate relations, induction sessions, marketing, publicity and incubation support for startup enthusiasts.\\n–Achieved the title of winner and serving as a Mentorfor the’Musketeers’ , a 3 months long Startup Idea Challenge\\n–Led as the MadforAd (POC), overseeing key initiatives, project coordination, and demonstrating strong leadership\\n–Served as the Team Head for BECON, an Annual Entrepreneurial fest and Tryst, Technical fest of IIT Delhi leading\\nevent coordination, and successful execution of insightful sessions attended by more than 1 Lakh+ attendees\\n•NGO Member |Arpan Prayas (Sept’20-Present)\\n–Engaged in a diverse range of socio-impactful activities including teaching, providing counseling services to\\nindividuals with disabilities and women, and actively participating in food distribution programs to the distressed\\nExtra Curricular Activities\\n•Successfully advanced to Round 2 in the Business Case Competition ’Venture Voyage’ , hosted by Student Incubation Cell.\\n•Cleared Round 1 of the Tata Imagination Challenge , India’s largest Business & Innovation challenge, demonstrating\\ncreativity and problem-solving abilities (among top 20% of selected candidates out of 2.6 Lakh+ participants nationwide)\\n•Participated in a 12-day educational program in France , gaining a cross-cultural learning experience and expanding global\\nperspectives'"
            ],
            "application/vnd.google.colaboratory.intrinsic+json": {
              "type": "string"
            }
          },
          "metadata": {},
          "execution_count": 5
        }
      ],
      "source": [
        "docs[0].page_content"
      ]
    },
    {
      "cell_type": "code",
      "execution_count": null,
      "metadata": {
        "id": "rH_SdqF16RQd"
      },
      "outputs": [],
      "source": [
        "# Split\n",
        "from langchain.text_splitter import RecursiveCharacterTextSplitter\n",
        "text_splitter = RecursiveCharacterTextSplitter(\n",
        "    chunk_size = 300,\n",
        "    chunk_overlap = 50\n",
        ")"
      ]
    },
    {
      "cell_type": "code",
      "execution_count": null,
      "metadata": {
        "id": "Z3J1qCDN7YDs"
      },
      "outputs": [],
      "source": [
        "splits = text_splitter.split_documents(docs)"
      ]
    },
    {
      "cell_type": "code",
      "execution_count": null,
      "metadata": {
        "id": "ibzYEPnO7e0a"
      },
      "outputs": [],
      "source": [
        "from langchain.embeddings.openai import OpenAIEmbeddings\n",
        "embedding = OpenAIEmbeddings()"
      ]
    },
    {
      "cell_type": "code",
      "execution_count": null,
      "metadata": {
        "id": "NRSaoXEu7gAN"
      },
      "outputs": [],
      "source": [
        "!rm -rf ./docs/chroma  # remove old database files if any"
      ]
    },
    {
      "cell_type": "code",
      "execution_count": null,
      "metadata": {
        "id": "AD1VX7b_Pwok"
      },
      "outputs": [],
      "source": [
        "persist_directory = 'docs/chroma/'"
      ]
    },
    {
      "cell_type": "code",
      "execution_count": null,
      "metadata": {
        "id": "sg36obfC-6Z9"
      },
      "outputs": [],
      "source": [
        "from langchain.vectorstores.faiss import FAISS\n",
        "\n",
        "vectordb = FAISS.from_documents(splits, embedding)"
      ]
    },
    {
      "cell_type": "code",
      "execution_count": null,
      "metadata": {
        "colab": {
          "base_uri": "https://localhost:8080/"
        },
        "id": "eXHdK7WQf2Ec",
        "outputId": "4c8ece25-02ab-4c14-a6cf-766bba8d7e93"
      },
      "outputs": [
        {
          "output_type": "execute_result",
          "data": {
            "text/plain": [
              "[Document(page_content='android app development \\nreact \\nﬂask \\nlangchain \\ntensorﬂow \\npandas \\nNLP \\noops \\ngit \\nnumpy \\ndeep learning \\nﬁrebase \\nleadership \\ndsa \\nProblem solving \\nPresentation skill \\nPERSONAL PROJECTS \\nAI ResumeRover\\n (09/2023)\\n \\nFunctionality: A platform for HR to upload and manage hundreds of', metadata={'source': 'rohit.pdf', 'page': 0}),\n",
              " Document(page_content='languages, I love exploring the power of data to create innovative solutions. \\nrohitcode005@gmail.com \\n+91 9798494187 \\nwww.kaggle.com/rohitcode123 \\nlinkedin.com/in/rohit-kumar-66522518a \\ngithub.com/Rohitw3code \\nEDUCATION \\nB.Tech Artiﬁcial Intelligence \\nSarala Birla University \\nClass 12th', metadata={'source': 'rohit.pdf', 'page': 0}),\n",
              " Document(page_content='Rohit Kumar \\nData Engineer \\nI am Rohit Kumar, a passionate Data Scientist with a strong background in Artiﬁcial Intelligence. Skilled in\\nData Science, Machine Learning, Computer Vision, App and Web Development, and various programming', metadata={'source': 'rohit.pdf', 'page': 0}),\n",
              " Document(page_content='06/2023\\n, \\n \\nSelected in 75k+ innovation ideas \\nTOP 30 All India Samsung solve for tomorrow - Innovation \\nMachine Learning Lead - Google Developers\\nStudent Club (GDSC) \\nSarala Birla University (GSDC) \\nSKILLS \\npython \\nhtml \\nC/C++ \\ncss \\njs \\nLLM \\nandroid app development \\nreact \\nﬂask \\nlangchain', metadata={'source': 'rohit.pdf', 'page': 0})]"
            ]
          },
          "metadata": {},
          "execution_count": 12
        }
      ],
      "source": [
        "vectordb.similarity_search(\"what are the skills\")"
      ]
    },
    {
      "cell_type": "code",
      "execution_count": null,
      "metadata": {
        "id": "9GrwmylTfrE_"
      },
      "outputs": [],
      "source": []
    },
    {
      "cell_type": "code",
      "execution_count": null,
      "metadata": {
        "id": "AqtHP9DS-2Wb"
      },
      "outputs": [],
      "source": [
        "# from langchain.vectorstores import Chroma\n",
        "# vectordb = Chroma.from_documents(\n",
        "#     documents=splits,\n",
        "#     embedding=embedding,\n",
        "#     persist_directory=persist_directory\n",
        "# )\n"
      ]
    },
    {
      "cell_type": "code",
      "execution_count": null,
      "metadata": {
        "id": "HZzDg2r-PHK8"
      },
      "outputs": [],
      "source": [
        "from langchain.prompts import PromptTemplate\n",
        "\n",
        "# Build\n",
        "template = \"\"\"Use context to answer the question\n",
        "If you don't know the answer, just say that you don't know, don't try to make up an answer.\n",
        "Use three sentences maximum. Keep the answer as concise as possible. Always say \"thanks for asking!\" at the end of the answer.\n",
        "\n",
        "{context}\"\n",
        "Question: {question}\n",
        "Helpful Answer:\"\"\""
      ]
    },
    {
      "cell_type": "code",
      "execution_count": null,
      "metadata": {
        "id": "-qGHVCOQPj9V"
      },
      "outputs": [],
      "source": [
        "QA_CHAIN_PROMPT = PromptTemplate.from_template(template)"
      ]
    },
    {
      "cell_type": "code",
      "execution_count": null,
      "metadata": {
        "id": "O9JVqNNGPyd1"
      },
      "outputs": [],
      "source": [
        "from langchain.chains import RetrievalQA\n",
        "from langchain.chat_models import ChatOpenAI\n",
        "\n",
        "llm_name = \"gpt-3.5-turbo\"\n",
        "llm = ChatOpenAI(model_name=llm_name, temperature=0)\n",
        "\n",
        "qa_chain = RetrievalQA.from_chain_type(\n",
        "    llm,\n",
        "    retriever=vectordb.as_retriever(),\n",
        "    # chain_type_kwargs={\"prompt\": QA_CHAIN_PROMPT},\n",
        "    return_source_documents=True\n",
        ")"
      ]
    },
    {
      "cell_type": "markdown",
      "metadata": {
        "id": "gFIgleo9nRl1"
      },
      "source": []
    },
    {
      "cell_type": "code",
      "execution_count": null,
      "metadata": {
        "colab": {
          "base_uri": "https://localhost:8080/",
          "height": 36
        },
        "id": "vkzkC6g9seGz",
        "outputId": "c8cdc795-682f-472d-c0f8-f66b8d5b5b3f"
      },
      "outputs": [
        {
          "output_type": "execute_result",
          "data": {
            "text/plain": [
              "'The phone number provided in the context is +91 9798494187.'"
            ],
            "application/vnd.google.colaboratory.intrinsic+json": {
              "type": "string"
            }
          },
          "metadata": {},
          "execution_count": 22
        }
      ],
      "source": [
        "result = qa_chain({\"query\": \"provide me the phone number \"})\n",
        "result[\"result\"]"
      ]
    },
    {
      "cell_type": "code",
      "execution_count": null,
      "metadata": {
        "id": "_TMqZYokY6ew"
      },
      "outputs": [],
      "source": []
    }
  ],
  "metadata": {
    "accelerator": "TPU",
    "colab": {
      "provenance": []
    },
    "kernelspec": {
      "display_name": "Python 3",
      "name": "python3"
    },
    "language_info": {
      "name": "python"
    }
  },
  "nbformat": 4,
  "nbformat_minor": 0
}